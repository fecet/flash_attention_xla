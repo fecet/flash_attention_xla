{
 "cells": [
  {
   "cell_type": "code",
   "execution_count": 4,
   "id": "65710eb1",
   "metadata": {
    "ExecuteTime": {
     "end_time": "2022-11-29T02:26:20.865458Z",
     "start_time": "2022-11-29T02:26:20.862924Z"
    }
   },
   "outputs": [],
   "source": [
    "\n",
    "import jax\n",
    "import jax.numpy as jnp\n",
    "import flmm\n",
    "from jaxlib import xla_client\n",
    "\n",
    "xla_client.register_custom_call_target(b\"local_softmax\", flmm.local_softmax(), platform=\"gpu\")"
   ]
  },
  {
   "cell_type": "code",
   "execution_count": 5,
   "id": "b77abb78",
   "metadata": {
    "ExecuteTime": {
     "end_time": "2022-11-29T02:26:45.679371Z",
     "start_time": "2022-11-29T02:26:45.408654Z"
    }
   },
   "outputs": [
    {
     "data": {
      "text/plain": [
       "DeviceArray([[1., 1., 1., ..., 1., 1., 1.],\n",
       "             [1., 1., 1., ..., 1., 1., 1.],\n",
       "             [1., 1., 1., ..., 1., 1., 1.],\n",
       "             ...,\n",
       "             [1., 1., 1., ..., 1., 1., 1.],\n",
       "             [1., 1., 1., ..., 1., 1., 1.],\n",
       "             [1., 1., 1., ..., 1., 1., 1.]], dtype=float32)"
      ]
     },
     "execution_count": 5,
     "metadata": {},
     "output_type": "execute_result"
    }
   ],
   "source": [
    "\n",
    "mat = jnp.ones((64,64))\n",
    "mat"
   ]
  },
  {
   "cell_type": "code",
   "execution_count": null,
   "id": "7180a041",
   "metadata": {},
   "outputs": [],
   "source": [
    "\n",
    "from jax import core\n",
    "\n",
    "sm_p = core.Primitive(\"local_softmax\")\n",
    "\n",
    "def local_sm_prim(a):\n",
    "    return sm_p.bind(a)\n",
    "\n",
    "@sm_p.def_impl\n",
    "def py_add_impl(a):\n",
    "    return \"local_softmax\"\n",
    "\n",
    "from jax._src import abstract_arrays\n",
    "\n",
    "@sm_p.def_abstract_eval\n",
    "def py_add_abeval(a):\n",
    "    assert a.shape == (64,64)\n",
    "    return abstract_arrays.ShapedArray(a.shape)"
   ]
  },
  {
   "cell_type": "code",
   "execution_count": null,
   "id": "80538a00",
   "metadata": {},
   "outputs": [],
   "source": [
    "\n",
    "from jax.interpreters import xla\n",
    "import numpy as np\n",
    "\n",
    "xops = xla_client.ops\n",
    "\n",
    "c = xla_client.XlaBuilder(\"comp_builder\")\n",
    "\n",
    "def py_add_translation(xla_builder, a, b):\n",
    "    shape = xla_client.Shape.array_shape(np.dtype(\"float32\"), (64,64), (0,))\n",
    "    opaque = b\"This is opaque\"\n",
    "    print(f\"Type of a is {type(a)}\")\n",
    "    print(f\"Type of shape is {type(shape)}\")\n",
    "    return xops.CustomCallWithLayout(\n",
    "        xla_builder,\n",
    "        b\"py_add_xla\",\n",
    "        operands=(a, b),\n",
    "        shape_with_layout=shape,\n",
    "        operand_shapes_with_layout=(shape, shape),\n",
    "        opaque=opaque,\n",
    "        # has_side_effect=False,\n",
    "        # schedule=0,\n",
    "        # api_version=1,\n",
    "    )\n",
    "\n",
    "xla.backend_specific_translations[\"gpu\"][py_add_p] = py_add_translation\n",
    "\n",
    "\"\"\"\n",
    "    builder: XlaBuilder,\n",
    "    call_target_name: bytes,\n",
    "    operands: Sequence[XlaOp],\n",
    "    shape_with_layout: Shape,\n",
    "    operand_shapes_with_layout: Sequence[Shape],\n",
    "    opaque: bytes = ...,\n",
    "    has_side_effect: bool = ...,\n",
    "    schedule: CustomCallSchedule = ...,\n",
    "    api_version: CustomCallApiVersion = ...,\n",
    "\"\"\"\n",
    "\n",
    "shape = xla_client.Shape.array_shape(np.dtype(\"float32\"), (128,), (0,))\n",
    "shape"
   ]
  }
 ],
 "metadata": {
  "kernelspec": {
   "display_name": "Python 3 (ipykernel)",
   "language": "python",
   "name": "python3"
  },
  "language_info": {
   "codemirror_mode": {
    "name": "ipython",
    "version": 3
   },
   "file_extension": ".py",
   "mimetype": "text/x-python",
   "name": "python",
   "nbconvert_exporter": "python",
   "pygments_lexer": "ipython3",
   "version": "3.10.6"
  }
 },
 "nbformat": 4,
 "nbformat_minor": 5
}
