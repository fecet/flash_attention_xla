{
 "cells": [
  {
   "cell_type": "code",
   "execution_count": 1,
   "id": "9878af19",
   "metadata": {
    "ExecuteTime": {
     "end_time": "2022-11-20T05:34:57.684008Z",
     "start_time": "2022-11-20T05:34:57.471795Z"
    }
   },
   "outputs": [],
   "source": [
    "\n",
    "import example\n",
    "import jax.numpy as jnp\n",
    "from jaxlib import xla_client\n",
    "\n",
    "xla_client.register_custom_call_target(b\"py_add_xla\", example.py_add(), platform=\"gpu\")"
   ]
  },
  {
   "cell_type": "code",
   "execution_count": 2,
   "id": "1da62b48",
   "metadata": {
    "ExecuteTime": {
     "end_time": "2022-11-20T05:34:59.117419Z",
     "start_time": "2022-11-20T05:34:58.949983Z"
    }
   },
   "outputs": [],
   "source": [
    "\n",
    "a = jnp.arange(128, dtype=jnp.float32)\n",
    "b = jnp.arange(128, dtype=jnp.float32)"
   ]
  },
  {
   "cell_type": "code",
   "execution_count": 10,
   "id": "b9b2192f",
   "metadata": {
    "ExecuteTime": {
     "end_time": "2022-11-20T05:36:25.305578Z",
     "start_time": "2022-11-20T05:36:25.303023Z"
    }
   },
   "outputs": [],
   "source": [
    "\n",
    "from jax import core\n",
    "\n",
    "py_add_p = core.Primitive(\"py_add\")\n",
    "\n",
    "def py_add_prim(a, b):\n",
    "    return py_add_p.bind(a, b)\n",
    "\n",
    "@py_add_p.def_impl\n",
    "def py_add_impl(a, b):\n",
    "    return \"hello world\"\n",
    "\n",
    "from jax._src import abstract_arrays\n",
    "\n",
    "\n",
    "@py_add_p.def_abstract_eval\n",
    "def py_add_abeval(a, b):\n",
    "    assert a.shape == b.shape\n",
    "    assert a.ndim == 1\n",
    "    assert a.shape[0] == 128\n",
    "    return abstract_arrays.ShapedArray(a.shape, a.dtype)"
   ]
  },
  {
   "cell_type": "code",
   "execution_count": 11,
   "id": "1ea90646",
   "metadata": {
    "ExecuteTime": {
     "end_time": "2022-11-20T05:36:27.938122Z",
     "start_time": "2022-11-20T05:36:27.927701Z"
    }
   },
   "outputs": [
    {
     "data": {
      "text/plain": [
       "f32[128]{0}"
      ]
     },
     "execution_count": 11,
     "metadata": {},
     "output_type": "execute_result"
    }
   ],
   "source": [
    "\n",
    "from jax.interpreters import xla\n",
    "import numpy as np\n",
    "\n",
    "xops = xla_client.ops\n",
    "\n",
    "c = xla_client.XlaBuilder(\"comp_builder\")\n",
    "\n",
    "def py_add_translation(xla_builder, a, b):\n",
    "    shape = xla_client.Shape.array_shape(np.dtype(\"float32\"), (128,), (0,))\n",
    "    opaque = b\"This is opaque\"\n",
    "    print(f\"Type of a is {type(a)}\")\n",
    "    print(f\"Type of shape is {type(shape)}\")\n",
    "    return xops.CustomCallWithLayout(\n",
    "        xla_builder,\n",
    "        b\"py_add_xla\",\n",
    "        operands=(a, b),\n",
    "        shape_with_layout=shape,\n",
    "        operand_shapes_with_layout=(shape, shape),\n",
    "        opaque=opaque,\n",
    "        # has_side_effect=False,\n",
    "        # schedule=0,\n",
    "        # api_version=1,\n",
    "    )\n",
    "\n",
    "xla.backend_specific_translations[\"gpu\"][py_add_p] = py_add_translation\n",
    "\n",
    "\"\"\"\n",
    "    builder: XlaBuilder,\n",
    "    call_target_name: bytes,\n",
    "    operands: Sequence[XlaOp],\n",
    "    shape_with_layout: Shape,\n",
    "    operand_shapes_with_layout: Sequence[Shape],\n",
    "    opaque: bytes = ...,\n",
    "    has_side_effect: bool = ...,\n",
    "    schedule: CustomCallSchedule = ...,\n",
    "    api_version: CustomCallApiVersion = ...,\n",
    "\"\"\"\n",
    "\n",
    "shape = xla_client.Shape.array_shape(np.dtype(\"float32\"), (128,), (0,))\n",
    "shape"
   ]
  },
  {
   "cell_type": "code",
   "execution_count": 12,
   "id": "083163c8",
   "metadata": {
    "ExecuteTime": {
     "end_time": "2022-11-20T05:36:28.360758Z",
     "start_time": "2022-11-20T05:36:28.325775Z"
    }
   },
   "outputs": [
    {
     "name": "stdout",
     "output_type": "stream",
     "text": [
      "Type of a is <class 'jaxlib.xla_extension.XlaOp'>\n",
      "Type of shape is <class 'jaxlib.xla_extension.Shape'>\n",
      "Now use custom XLA!\n",
      "This is opaque\n"
     ]
    }
   ],
   "source": [
    "\n",
    "import jax\n",
    "\n",
    "c = jax.jit(py_add_prim)(a,b)"
   ]
  },
  {
   "cell_type": "code",
   "execution_count": 13,
   "id": "f4bb5f6d",
   "metadata": {
    "ExecuteTime": {
     "end_time": "2022-11-20T05:36:28.984016Z",
     "start_time": "2022-11-20T05:36:28.981441Z"
    }
   },
   "outputs": [
    {
     "data": {
      "text/plain": [
       "DeviceArray([  0.,   2.,   4.,   6.,   8.,  10.,  12.,  14.,  16.,  18.,\n",
       "              20.,  22.,  24.,  26.,  28.,  30.,  32.,  34.,  36.,  38.,\n",
       "              40.,  42.,  44.,  46.,  48.,  50.,  52.,  54.,  56.,  58.,\n",
       "              60.,  62.,  64.,  66.,  68.,  70.,  72.,  74.,  76.,  78.,\n",
       "              80.,  82.,  84.,  86.,  88.,  90.,  92.,  94.,  96.,  98.,\n",
       "             100., 102., 104., 106., 108., 110., 112., 114., 116., 118.,\n",
       "             120., 122., 124., 126., 128., 130., 132., 134., 136., 138.,\n",
       "             140., 142., 144., 146., 148., 150., 152., 154., 156., 158.,\n",
       "             160., 162., 164., 166., 168., 170., 172., 174., 176., 178.,\n",
       "             180., 182., 184., 186., 188., 190., 192., 194., 196., 198.,\n",
       "             200., 202., 204., 206., 208., 210., 212., 214., 216., 218.,\n",
       "             220., 222., 224., 226., 228., 230., 232., 234., 236., 238.,\n",
       "             240., 242., 244., 246., 248., 250., 252., 254.],            dtype=float32)"
      ]
     },
     "execution_count": 13,
     "metadata": {},
     "output_type": "execute_result"
    }
   ],
   "source": [
    "\n",
    "c"
   ]
  },
  {
   "cell_type": "code",
   "execution_count": 14,
   "id": "89f8babc",
   "metadata": {
    "ExecuteTime": {
     "end_time": "2022-11-20T05:36:31.611136Z",
     "start_time": "2022-11-20T05:36:31.608479Z"
    }
   },
   "outputs": [
    {
     "data": {
      "text/plain": [
       "'hello world'"
      ]
     },
     "execution_count": 14,
     "metadata": {},
     "output_type": "execute_result"
    }
   ],
   "source": [
    "\n",
    "d = py_add_prim(a,b)\n",
    "d"
   ]
  },
  {
   "cell_type": "code",
   "execution_count": null,
   "id": "f0440912",
   "metadata": {},
   "outputs": [],
   "source": [
    "\n",
    "d"
   ]
  }
 ],
 "metadata": {
  "kernelspec": {
   "display_name": "Python 3 (ipykernel)",
   "language": "python",
   "name": "python3"
  },
  "language_info": {
   "codemirror_mode": {
    "name": "ipython",
    "version": 3
   },
   "file_extension": ".py",
   "mimetype": "text/x-python",
   "name": "python",
   "nbconvert_exporter": "python",
   "pygments_lexer": "ipython3",
   "version": "3.10.6"
  }
 },
 "nbformat": 4,
 "nbformat_minor": 5
}
